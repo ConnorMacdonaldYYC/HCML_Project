{
 "cells": [
  {
   "cell_type": "code",
   "execution_count": 9,
   "metadata": {},
   "outputs": [],
   "source": [
    "import joblib\n",
    "\n",
    "mlp = joblib.load(\"mlp_model.pkl\")"
   ]
  },
  {
   "cell_type": "code",
   "execution_count": 10,
   "metadata": {},
   "outputs": [
    {
     "name": "stdout",
     "output_type": "stream",
     "text": [
      "alcohol\n",
      "CL5    757\n",
      "CL6    503\n",
      "CL4    284\n",
      "CL3    197\n",
      "CL2     68\n",
      "CL1     34\n",
      "CL0     33\n",
      "Name: count, dtype: int64\n",
      "amphet\n",
      "CL0    973\n",
      "CL2    240\n",
      "CL1    230\n",
      "CL3    196\n",
      "CL6    101\n",
      "CL4     75\n",
      "CL5     61\n",
      "Name: count, dtype: int64\n",
      "amyl\n",
      "CL0    1298\n",
      "CL2     236\n",
      "CL1     210\n",
      "CL3      91\n",
      "CL4      24\n",
      "CL5      14\n",
      "CL6       3\n",
      "Name: count, dtype: int64\n",
      "benzos\n",
      "CL0    999\n",
      "CL3    234\n",
      "CL2    229\n",
      "CL4    119\n",
      "CL1    116\n",
      "CL6     95\n",
      "CL5     84\n",
      "Name: count, dtype: int64\n",
      "caff\n",
      "CL6    1379\n",
      "CL5     271\n",
      "CL4     106\n",
      "CL3      59\n",
      "CL0      27\n",
      "CL2      24\n",
      "CL1      10\n",
      "Name: count, dtype: int64\n",
      "cannabis\n",
      "CL6    458\n",
      "CL0    412\n",
      "CL2    266\n",
      "CL3    210\n",
      "CL1    207\n",
      "CL5    185\n",
      "CL4    138\n",
      "Name: count, dtype: int64\n",
      "choc\n",
      "CL6    805\n",
      "CL5    679\n",
      "CL4    295\n",
      "CL3     53\n",
      "CL0     32\n",
      "CL2     10\n",
      "CL1      2\n",
      "Name: count, dtype: int64\n",
      "coke\n",
      "CL0    1035\n",
      "CL2     267\n",
      "CL3     257\n",
      "CL1     160\n",
      "CL4      98\n",
      "CL5      40\n",
      "CL6      19\n",
      "Name: count, dtype: int64\n",
      "crack\n",
      "CL0    1621\n",
      "CL2     109\n",
      "CL1      67\n",
      "CL3      59\n",
      "CL5       9\n",
      "CL4       9\n",
      "CL6       2\n",
      "Name: count, dtype: int64\n",
      "ecstasy\n",
      "CL0    1019\n",
      "CL3     275\n",
      "CL2     232\n",
      "CL4     154\n",
      "CL1     112\n",
      "CL5      63\n",
      "CL6      21\n",
      "Name: count, dtype: int64\n",
      "heroin\n",
      "CL0    1599\n",
      "CL2      91\n",
      "CL1      68\n",
      "CL3      65\n",
      "CL4      24\n",
      "CL5      16\n",
      "CL6      13\n",
      "Name: count, dtype: int64\n",
      "ketamine\n",
      "CL0    1487\n",
      "CL2     140\n",
      "CL3     129\n",
      "CL1      43\n",
      "CL4      40\n",
      "CL5      33\n",
      "CL6       4\n",
      "Name: count, dtype: int64\n",
      "legalh\n",
      "CL0    1091\n",
      "CL3     321\n",
      "CL2     195\n",
      "CL4     109\n",
      "CL6      67\n",
      "CL5      64\n",
      "CL1      29\n",
      "Name: count, dtype: int64\n",
      "lsd\n",
      "CL0    1068\n",
      "CL1     257\n",
      "CL3     213\n",
      "CL2     175\n",
      "CL4      96\n",
      "CL5      55\n",
      "CL6      12\n",
      "Name: count, dtype: int64\n",
      "meth\n",
      "CL0    1423\n",
      "CL3     148\n",
      "CL2      95\n",
      "CL6      73\n",
      "CL4      50\n",
      "CL5      48\n",
      "CL1      39\n",
      "Name: count, dtype: int64\n",
      "mushrooms\n",
      "CL0    981\n",
      "CL3    272\n",
      "CL2    259\n",
      "CL1    208\n",
      "CL4    114\n",
      "CL5     39\n",
      "CL6      3\n",
      "Name: count, dtype: int64\n",
      "nicotine\n",
      "CL6    607\n",
      "CL0    428\n",
      "CL2    202\n",
      "CL1    193\n",
      "CL3    184\n",
      "CL5    156\n",
      "CL4    106\n",
      "Name: count, dtype: int64\n",
      "semer\n",
      "CL0    1876\n",
      "Name: count, dtype: int64\n",
      "vsa\n",
      "CL0    1451\n",
      "CL1     199\n",
      "CL2     133\n",
      "CL3      59\n",
      "CL5      14\n",
      "CL4      13\n",
      "CL6       7\n",
      "Name: count, dtype: int64\n"
     ]
    }
   ],
   "source": [
    "from project import load_data\n",
    "\n",
    "\n",
    "X_train, X_test, y_train, y_test = load_data()"
   ]
  },
  {
   "cell_type": "code",
   "execution_count": 42,
   "metadata": {},
   "outputs": [],
   "source": [
    "from lime.lime_tabular import LimeTabularExplainer\n",
    "\n",
    "lime_explainer = LimeTabularExplainer(X_train.values, feature_names=X_train.columns, class_names=[0, 1], discretize_continuous=False)\n",
    "lime_values = [dict(sorted(lime_explainer.explain_instance(x, mlp.predict_proba, num_features=12).as_list(), key=lambda x: x[0])) for x in X_test.values]\n"
   ]
  },
  {
   "cell_type": "code",
   "execution_count": 31,
   "metadata": {},
   "outputs": [
    {
     "name": "stderr",
     "output_type": "stream",
     "text": [
      "Using 376 background data samples could cause slower run times. Consider using shap.sample(data, K) or shap.kmeans(data, K) to summarize the background as K samples.\n",
      "100%|██████████| 376/376 [12:00<00:00,  1.92s/it]\n"
     ]
    }
   ],
   "source": [
    "import shap\n",
    "\n",
    "shap_explainer = shap.KernelExplainer(mlp.predict_proba, X_test)\n",
    "shap_values = shap_explainer.shap_values(X_test)\n"
   ]
  },
  {
   "cell_type": "code",
   "execution_count": 36,
   "metadata": {},
   "outputs": [],
   "source": [
    "shap_values_positive = shap_values[:, :, 1]"
   ]
  },
  {
   "cell_type": "code",
   "execution_count": 13,
   "metadata": {},
   "outputs": [],
   "source": [
    "import torch\n",
    "import torch.nn as nn\n",
    "\n",
    "class MLP(nn.Module):\n",
    "    def __init__(self, mlp_model):\n",
    "        super(MLP, self).__init__()\n",
    "        self.hidden1 = nn.Linear(20, 64)\n",
    "        self.hidden2 = nn.Linear(64, 32)\n",
    "        self.output = nn.Linear(32, 2)  # Adjust output size based on your problem\n",
    "\n",
    "        # Copy weights from the trained MLPClassifier\n",
    "        self.hidden1.weight.data = torch.tensor(mlp_model.coefs_[0].T, dtype=torch.float32)\n",
    "        self.hidden1.bias.data = torch.tensor(mlp_model.intercepts_[0], dtype=torch.float32)\n",
    "        self.hidden2.weight.data = torch.tensor(mlp_model.coefs_[1].T, dtype=torch.float32)\n",
    "        self.hidden2.bias.data = torch.tensor(mlp_model.intercepts_[1], dtype=torch.float32)\n",
    "        self.output.weight.data = torch.tensor(mlp_model.coefs_[2].T, dtype=torch.float32)\n",
    "        self.output.bias.data = torch.tensor(mlp_model.intercepts_[2], dtype=torch.float32)\n",
    "\n",
    "    def forward(self, x):\n",
    "        x = torch.sigmoid(self.hidden1(x))\n",
    "        x = torch.sigmoid(self.hidden2(x))\n",
    "        x = self.output(x)\n",
    "        return x\n",
    "\n",
    "# Create a PyTorch model from the scikit-learn model\n",
    "torch_model = MLP(mlp)"
   ]
  },
  {
   "cell_type": "code",
   "execution_count": 14,
   "metadata": {},
   "outputs": [],
   "source": [
    "X_test_tensor = torch.tensor(X_test.values, dtype=torch.float32)"
   ]
  },
  {
   "cell_type": "code",
   "execution_count": 15,
   "metadata": {},
   "outputs": [
    {
     "name": "stderr",
     "output_type": "stream",
     "text": [
      "/Users/connormacdonald/miniconda3/envs/ai-base/lib/python3.12/site-packages/captum/_utils/gradient.py:57: UserWarning: Input Tensor 0 did not already require gradients, required_grads has been set automatically.\n",
      "  warnings.warn(\n"
     ]
    }
   ],
   "source": [
    "from captum.attr import LRP\n",
    "import numpy as np\n",
    "\n",
    "lrp = LRP(torch_model)\n",
    "\n",
    "attributions = lrp.attribute(X_test_tensor)\n",
    "attributions = attributions.detach().cpu().numpy()\n"
   ]
  },
  {
   "cell_type": "code",
   "execution_count": 46,
   "metadata": {},
   "outputs": [
    {
     "data": {
      "text/plain": [
       "[-0.1331210253307985,\n",
       " 0.0037415050247531557,\n",
       " -0.1130803411799598,\n",
       " -0.07999726519867913,\n",
       " -0.07678774515645626,\n",
       " -0.029723712604049345,\n",
       " 0.008000692905538759,\n",
       " -0.034977922136757336,\n",
       " -0.018909315479704168,\n",
       " -0.04038282066333372,\n",
       " 0.12604576504465534,\n",
       " 0.10050066989441835]"
      ]
     },
     "execution_count": 46,
     "metadata": {},
     "output_type": "execute_result"
    }
   ],
   "source": [
    "lime_values_featureless = [list(val.values()) for val in lime_values]\n",
    "lime_values_featureless[0]"
   ]
  },
  {
   "cell_type": "code",
   "execution_count": 100,
   "metadata": {},
   "outputs": [
    {
     "name": "stdout",
     "output_type": "stream",
     "text": [
      "Best Hyperparameters: {'criterion': 'entropy', 'max_depth': 8, 'max_features': 'sqrt', 'n_estimators': 200}\n"
     ]
    }
   ],
   "source": [
    "import importlib\n",
    "import evaluation\n",
    "importlib.reload(evaluation)\n",
    "\n",
    "lime_evaluations, lime_fpr, lime_tpr, lime_roc_auc = evaluation.run_evaluations(lime_values_featureless, y_test.values.ravel())"
   ]
  },
  {
   "cell_type": "code",
   "execution_count": 101,
   "metadata": {},
   "outputs": [
    {
     "name": "stdout",
     "output_type": "stream",
     "text": [
      "Best Hyperparameters: {'criterion': 'gini', 'max_depth': 6, 'max_features': 'sqrt', 'n_estimators': 100}\n"
     ]
    }
   ],
   "source": [
    "shap_evaluations, shap_fpr, shap_tpr, shap_roc_auc = evaluation.run_evaluations(shap_values_positive, y_test.values.ravel())"
   ]
  },
  {
   "cell_type": "code",
   "execution_count": 107,
   "metadata": {},
   "outputs": [
    {
     "name": "stdout",
     "output_type": "stream",
     "text": [
      "Best Hyperparameters: {'criterion': 'gini', 'max_depth': 10, 'max_features': 'sqrt', 'n_estimators': 100}\n"
     ]
    }
   ],
   "source": [
    "lrp_evaluations, lrp_fpr, lrp_tpr, lrp_roc_auc = evaluation.run_evaluations(attributions, y_test.values.ravel())"
   ]
  },
  {
   "cell_type": "code",
   "execution_count": 103,
   "metadata": {},
   "outputs": [
    {
     "data": {
      "text/html": [
       "<div>\n",
       "<style scoped>\n",
       "    .dataframe tbody tr th:only-of-type {\n",
       "        vertical-align: middle;\n",
       "    }\n",
       "\n",
       "    .dataframe tbody tr th {\n",
       "        vertical-align: top;\n",
       "    }\n",
       "\n",
       "    .dataframe thead th {\n",
       "        text-align: right;\n",
       "    }\n",
       "</style>\n",
       "<table border=\"1\" class=\"dataframe\">\n",
       "  <thead>\n",
       "    <tr style=\"text-align: right;\">\n",
       "      <th></th>\n",
       "      <th>k</th>\n",
       "      <th>Silhouette Kmeans</th>\n",
       "      <th>Silhouette Spectral</th>\n",
       "      <th>DBI Kmeans</th>\n",
       "      <th>DBI Spectral</th>\n",
       "    </tr>\n",
       "  </thead>\n",
       "  <tbody>\n",
       "    <tr>\n",
       "      <th>0</th>\n",
       "      <td>2</td>\n",
       "      <td>0.950187</td>\n",
       "      <td>-0.157853</td>\n",
       "      <td>0.033854</td>\n",
       "      <td>1.146439</td>\n",
       "    </tr>\n",
       "    <tr>\n",
       "      <th>1</th>\n",
       "      <td>3</td>\n",
       "      <td>0.277064</td>\n",
       "      <td>-0.223974</td>\n",
       "      <td>0.986727</td>\n",
       "      <td>1.098384</td>\n",
       "    </tr>\n",
       "    <tr>\n",
       "      <th>2</th>\n",
       "      <td>4</td>\n",
       "      <td>0.224888</td>\n",
       "      <td>-0.258530</td>\n",
       "      <td>1.081794</td>\n",
       "      <td>1.350200</td>\n",
       "    </tr>\n",
       "    <tr>\n",
       "      <th>3</th>\n",
       "      <td>5</td>\n",
       "      <td>0.214899</td>\n",
       "      <td>-0.280718</td>\n",
       "      <td>1.118224</td>\n",
       "      <td>1.147104</td>\n",
       "    </tr>\n",
       "    <tr>\n",
       "      <th>4</th>\n",
       "      <td>6</td>\n",
       "      <td>0.172420</td>\n",
       "      <td>-0.241673</td>\n",
       "      <td>1.364027</td>\n",
       "      <td>1.514735</td>\n",
       "    </tr>\n",
       "    <tr>\n",
       "      <th>5</th>\n",
       "      <td>7</td>\n",
       "      <td>0.169518</td>\n",
       "      <td>-0.302061</td>\n",
       "      <td>1.316577</td>\n",
       "      <td>1.119707</td>\n",
       "    </tr>\n",
       "    <tr>\n",
       "      <th>6</th>\n",
       "      <td>8</td>\n",
       "      <td>0.154471</td>\n",
       "      <td>-0.342392</td>\n",
       "      <td>1.464572</td>\n",
       "      <td>1.578319</td>\n",
       "    </tr>\n",
       "  </tbody>\n",
       "</table>\n",
       "</div>"
      ],
      "text/plain": [
       "   k  Silhouette Kmeans  Silhouette Spectral  DBI Kmeans  DBI Spectral\n",
       "0  2           0.950187            -0.157853    0.033854      1.146439\n",
       "1  3           0.277064            -0.223974    0.986727      1.098384\n",
       "2  4           0.224888            -0.258530    1.081794      1.350200\n",
       "3  5           0.214899            -0.280718    1.118224      1.147104\n",
       "4  6           0.172420            -0.241673    1.364027      1.514735\n",
       "5  7           0.169518            -0.302061    1.316577      1.119707\n",
       "6  8           0.154471            -0.342392    1.464572      1.578319"
      ]
     },
     "execution_count": 103,
     "metadata": {},
     "output_type": "execute_result"
    }
   ],
   "source": [
    "lime_evaluations"
   ]
  },
  {
   "cell_type": "code",
   "execution_count": 104,
   "metadata": {},
   "outputs": [
    {
     "data": {
      "text/html": [
       "<div>\n",
       "<style scoped>\n",
       "    .dataframe tbody tr th:only-of-type {\n",
       "        vertical-align: middle;\n",
       "    }\n",
       "\n",
       "    .dataframe tbody tr th {\n",
       "        vertical-align: top;\n",
       "    }\n",
       "\n",
       "    .dataframe thead th {\n",
       "        text-align: right;\n",
       "    }\n",
       "</style>\n",
       "<table border=\"1\" class=\"dataframe\">\n",
       "  <thead>\n",
       "    <tr style=\"text-align: right;\">\n",
       "      <th></th>\n",
       "      <th>k</th>\n",
       "      <th>Silhouette Kmeans</th>\n",
       "      <th>Silhouette Spectral</th>\n",
       "      <th>DBI Kmeans</th>\n",
       "      <th>DBI Spectral</th>\n",
       "    </tr>\n",
       "  </thead>\n",
       "  <tbody>\n",
       "    <tr>\n",
       "      <th>0</th>\n",
       "      <td>2</td>\n",
       "      <td>0.259481</td>\n",
       "      <td>-0.001182</td>\n",
       "      <td>1.446427</td>\n",
       "      <td>0.962350</td>\n",
       "    </tr>\n",
       "    <tr>\n",
       "      <th>1</th>\n",
       "      <td>3</td>\n",
       "      <td>0.313431</td>\n",
       "      <td>-0.246145</td>\n",
       "      <td>1.166531</td>\n",
       "      <td>0.926404</td>\n",
       "    </tr>\n",
       "    <tr>\n",
       "      <th>2</th>\n",
       "      <td>4</td>\n",
       "      <td>0.311744</td>\n",
       "      <td>-0.257768</td>\n",
       "      <td>1.293091</td>\n",
       "      <td>0.854804</td>\n",
       "    </tr>\n",
       "    <tr>\n",
       "      <th>3</th>\n",
       "      <td>5</td>\n",
       "      <td>0.249206</td>\n",
       "      <td>-0.264847</td>\n",
       "      <td>1.587472</td>\n",
       "      <td>0.862645</td>\n",
       "    </tr>\n",
       "    <tr>\n",
       "      <th>4</th>\n",
       "      <td>6</td>\n",
       "      <td>0.234480</td>\n",
       "      <td>-0.281832</td>\n",
       "      <td>1.692605</td>\n",
       "      <td>0.857820</td>\n",
       "    </tr>\n",
       "    <tr>\n",
       "      <th>5</th>\n",
       "      <td>7</td>\n",
       "      <td>0.202613</td>\n",
       "      <td>-0.282168</td>\n",
       "      <td>1.694806</td>\n",
       "      <td>0.859638</td>\n",
       "    </tr>\n",
       "    <tr>\n",
       "      <th>6</th>\n",
       "      <td>8</td>\n",
       "      <td>0.169010</td>\n",
       "      <td>-0.282224</td>\n",
       "      <td>2.000143</td>\n",
       "      <td>0.987551</td>\n",
       "    </tr>\n",
       "  </tbody>\n",
       "</table>\n",
       "</div>"
      ],
      "text/plain": [
       "   k  Silhouette Kmeans  Silhouette Spectral  DBI Kmeans  DBI Spectral\n",
       "0  2           0.259481            -0.001182    1.446427      0.962350\n",
       "1  3           0.313431            -0.246145    1.166531      0.926404\n",
       "2  4           0.311744            -0.257768    1.293091      0.854804\n",
       "3  5           0.249206            -0.264847    1.587472      0.862645\n",
       "4  6           0.234480            -0.281832    1.692605      0.857820\n",
       "5  7           0.202613            -0.282168    1.694806      0.859638\n",
       "6  8           0.169010            -0.282224    2.000143      0.987551"
      ]
     },
     "execution_count": 104,
     "metadata": {},
     "output_type": "execute_result"
    }
   ],
   "source": [
    "shap_evaluations"
   ]
  },
  {
   "cell_type": "code",
   "execution_count": 105,
   "metadata": {},
   "outputs": [
    {
     "data": {
      "text/html": [
       "<div>\n",
       "<style scoped>\n",
       "    .dataframe tbody tr th:only-of-type {\n",
       "        vertical-align: middle;\n",
       "    }\n",
       "\n",
       "    .dataframe tbody tr th {\n",
       "        vertical-align: top;\n",
       "    }\n",
       "\n",
       "    .dataframe thead th {\n",
       "        text-align: right;\n",
       "    }\n",
       "</style>\n",
       "<table border=\"1\" class=\"dataframe\">\n",
       "  <thead>\n",
       "    <tr style=\"text-align: right;\">\n",
       "      <th></th>\n",
       "      <th>k</th>\n",
       "      <th>Silhouette Kmeans</th>\n",
       "      <th>Silhouette Spectral</th>\n",
       "      <th>DBI Kmeans</th>\n",
       "      <th>DBI Spectral</th>\n",
       "    </tr>\n",
       "  </thead>\n",
       "  <tbody>\n",
       "    <tr>\n",
       "      <th>0</th>\n",
       "      <td>2</td>\n",
       "      <td>0.966807</td>\n",
       "      <td>-0.763099</td>\n",
       "      <td>0.206783</td>\n",
       "      <td>1.514677</td>\n",
       "    </tr>\n",
       "    <tr>\n",
       "      <th>1</th>\n",
       "      <td>3</td>\n",
       "      <td>0.926113</td>\n",
       "      <td>-0.760846</td>\n",
       "      <td>0.362928</td>\n",
       "      <td>1.514157</td>\n",
       "    </tr>\n",
       "    <tr>\n",
       "      <th>2</th>\n",
       "      <td>4</td>\n",
       "      <td>0.892761</td>\n",
       "      <td>-0.758601</td>\n",
       "      <td>0.461210</td>\n",
       "      <td>1.513557</td>\n",
       "    </tr>\n",
       "    <tr>\n",
       "      <th>3</th>\n",
       "      <td>5</td>\n",
       "      <td>0.877126</td>\n",
       "      <td>-0.756098</td>\n",
       "      <td>0.378639</td>\n",
       "      <td>1.530598</td>\n",
       "    </tr>\n",
       "    <tr>\n",
       "      <th>4</th>\n",
       "      <td>6</td>\n",
       "      <td>0.855432</td>\n",
       "      <td>-0.753728</td>\n",
       "      <td>0.400106</td>\n",
       "      <td>1.527116</td>\n",
       "    </tr>\n",
       "    <tr>\n",
       "      <th>5</th>\n",
       "      <td>7</td>\n",
       "      <td>0.746901</td>\n",
       "      <td>-0.751536</td>\n",
       "      <td>0.446967</td>\n",
       "      <td>1.511585</td>\n",
       "    </tr>\n",
       "    <tr>\n",
       "      <th>6</th>\n",
       "      <td>8</td>\n",
       "      <td>0.743006</td>\n",
       "      <td>-0.749144</td>\n",
       "      <td>0.467280</td>\n",
       "      <td>1.510902</td>\n",
       "    </tr>\n",
       "  </tbody>\n",
       "</table>\n",
       "</div>"
      ],
      "text/plain": [
       "   k  Silhouette Kmeans  Silhouette Spectral  DBI Kmeans  DBI Spectral\n",
       "0  2           0.966807            -0.763099    0.206783      1.514677\n",
       "1  3           0.926113            -0.760846    0.362928      1.514157\n",
       "2  4           0.892761            -0.758601    0.461210      1.513557\n",
       "3  5           0.877126            -0.756098    0.378639      1.530598\n",
       "4  6           0.855432            -0.753728    0.400106      1.527116\n",
       "5  7           0.746901            -0.751536    0.446967      1.511585\n",
       "6  8           0.743006            -0.749144    0.467280      1.510902"
      ]
     },
     "execution_count": 105,
     "metadata": {},
     "output_type": "execute_result"
    }
   ],
   "source": [
    "lrp_evaluations"
   ]
  },
  {
   "cell_type": "code",
   "execution_count": 108,
   "metadata": {},
   "outputs": [
    {
     "data": {
      "image/png": "[encoded data removed]",
      "text/plain": [
       "<Figure size 1000x600 with 1 Axes>"
      ]
     },
     "metadata": {},
     "output_type": "display_data"
    }
   ],
   "source": [
    "import matplotlib.pyplot as plt\n",
    "\n",
    "plt.figure(figsize=(10, 6))\n",
    "plt.plot(lime_fpr, lime_tpr, color='blue', lw=2, label=f'lime (AuROC = {lime_roc_auc:.2f})')\n",
    "plt.plot(shap_fpr, shap_tpr, color='orange', lw=2, label=f'shap (AuROC = {shap_roc_auc:.2f})')\n",
    "plt.plot(lrp_fpr, lrp_tpr, color='red', lw=2, label=f'RLP (AuROC = {lrp_roc_auc:.2f})')\n",
    "plt.plot([0, 1], [0, 1], color='gray', linestyle='--')  # Diagonal line\n",
    "plt.xlim([0.0, 1.0])\n",
    "plt.ylim([0.0, 1.05])\n",
    "plt.xlabel('False Positive Rate')\n",
    "plt.ylabel('True Positive Rate')\n",
    "plt.title('ROC Curve')\n",
    "plt.legend(loc=\"lower right\")\n",
    "plt.show()"
   ]
  }
 ],
 "metadata": {
  "kernelspec": {
   "display_name": "ai-base",
   "language": "python",
   "name": "python3"
  },
  "language_info": {
   "codemirror_mode": {
    "name": "ipython",
    "version": 3
   },
   "file_extension": ".py",
   "mimetype": "text/x-python",
   "name": "python",
   "nbconvert_exporter": "python",
   "pygments_lexer": "ipython3",
   "version": "3.10.14"
  }
 },
 "nbformat": 4,
 "nbformat_minor": 2
}
