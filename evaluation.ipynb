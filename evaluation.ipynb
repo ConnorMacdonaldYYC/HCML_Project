{
 "cells": [
  {
   "cell_type": "code",
   "execution_count": 1,
   "metadata": {},
   "outputs": [],
   "source": [
    "import joblib\n",
    "\n",
    "mlp = joblib.load(\"mlp_model.pkl\")"
   ]
  },
  {
   "cell_type": "code",
   "execution_count": 2,
   "metadata": {},
   "outputs": [
    {
     "name": "stdout",
     "output_type": "stream",
     "text": [
      "alcohol\n",
      "CL5    757\n",
      "CL6    503\n",
      "CL4    284\n",
      "CL3    197\n",
      "CL2     68\n",
      "CL1     34\n",
      "CL0     33\n",
      "Name: count, dtype: int64\n",
      "amphet\n",
      "CL0    973\n",
      "CL2    240\n",
      "CL1    230\n",
      "CL3    196\n",
      "CL6    101\n",
      "CL4     75\n",
      "CL5     61\n",
      "Name: count, dtype: int64\n",
      "amyl\n",
      "CL0    1298\n",
      "CL2     236\n",
      "CL1     210\n",
      "CL3      91\n",
      "CL4      24\n",
      "CL5      14\n",
      "CL6       3\n",
      "Name: count, dtype: int64\n",
      "benzos\n",
      "CL0    999\n",
      "CL3    234\n",
      "CL2    229\n",
      "CL4    119\n",
      "CL1    116\n",
      "CL6     95\n",
      "CL5     84\n",
      "Name: count, dtype: int64\n",
      "caff\n",
      "CL6    1379\n",
      "CL5     271\n",
      "CL4     106\n",
      "CL3      59\n",
      "CL0      27\n",
      "CL2      24\n",
      "CL1      10\n",
      "Name: count, dtype: int64\n",
      "cannabis\n",
      "CL6    458\n",
      "CL0    412\n",
      "CL2    266\n",
      "CL3    210\n",
      "CL1    207\n",
      "CL5    185\n",
      "CL4    138\n",
      "Name: count, dtype: int64\n",
      "choc\n",
      "CL6    805\n",
      "CL5    679\n",
      "CL4    295\n",
      "CL3     53\n",
      "CL0     32\n",
      "CL2     10\n",
      "CL1      2\n",
      "Name: count, dtype: int64\n",
      "coke\n",
      "CL0    1035\n",
      "CL2     267\n",
      "CL3     257\n",
      "CL1     160\n",
      "CL4      98\n",
      "CL5      40\n",
      "CL6      19\n",
      "Name: count, dtype: int64\n",
      "crack\n",
      "CL0    1621\n",
      "CL2     109\n",
      "CL1      67\n",
      "CL3      59\n",
      "CL5       9\n",
      "CL4       9\n",
      "CL6       2\n",
      "Name: count, dtype: int64\n",
      "ecstasy\n",
      "CL0    1019\n",
      "CL3     275\n",
      "CL2     232\n",
      "CL4     154\n",
      "CL1     112\n",
      "CL5      63\n",
      "CL6      21\n",
      "Name: count, dtype: int64\n",
      "heroin\n",
      "CL0    1599\n",
      "CL2      91\n",
      "CL1      68\n",
      "CL3      65\n",
      "CL4      24\n",
      "CL5      16\n",
      "CL6      13\n",
      "Name: count, dtype: int64\n",
      "ketamine\n",
      "CL0    1487\n",
      "CL2     140\n",
      "CL3     129\n",
      "CL1      43\n",
      "CL4      40\n",
      "CL5      33\n",
      "CL6       4\n",
      "Name: count, dtype: int64\n",
      "legalh\n",
      "CL0    1091\n",
      "CL3     321\n",
      "CL2     195\n",
      "CL4     109\n",
      "CL6      67\n",
      "CL5      64\n",
      "CL1      29\n",
      "Name: count, dtype: int64\n",
      "lsd\n",
      "CL0    1068\n",
      "CL1     257\n",
      "CL3     213\n",
      "CL2     175\n",
      "CL4      96\n",
      "CL5      55\n",
      "CL6      12\n",
      "Name: count, dtype: int64\n",
      "meth\n",
      "CL0    1423\n",
      "CL3     148\n",
      "CL2      95\n",
      "CL6      73\n",
      "CL4      50\n",
      "CL5      48\n",
      "CL1      39\n",
      "Name: count, dtype: int64\n",
      "mushrooms\n",
      "CL0    981\n",
      "CL3    272\n",
      "CL2    259\n",
      "CL1    208\n",
      "CL4    114\n",
      "CL5     39\n",
      "CL6      3\n",
      "Name: count, dtype: int64\n",
      "nicotine\n",
      "CL6    607\n",
      "CL0    428\n",
      "CL2    202\n",
      "CL1    193\n",
      "CL3    184\n",
      "CL5    156\n",
      "CL4    106\n",
      "Name: count, dtype: int64\n",
      "semer\n",
      "CL0    1876\n",
      "Name: count, dtype: int64\n",
      "vsa\n",
      "CL0    1451\n",
      "CL1     199\n",
      "CL2     133\n",
      "CL3      59\n",
      "CL5      14\n",
      "CL4      13\n",
      "CL6       7\n",
      "Name: count, dtype: int64\n"
     ]
    }
   ],
   "source": [
    "from project import load_data\n",
    "\n",
    "\n",
    "X_train, X_test, y_train, y_test = load_data()"
   ]
  },
  {
   "cell_type": "code",
   "execution_count": 3,
   "metadata": {},
   "outputs": [],
   "source": [
    "from lime.lime_tabular import LimeTabularExplainer\n",
    "\n",
    "lime_explainer = LimeTabularExplainer(X_train.values, feature_names=X_train.columns, class_names=[0, 1], discretize_continuous=False)\n",
    "lime_values = [dict(sorted(lime_explainer.explain_instance(x, mlp.predict_proba, num_features=12).as_list(), key=lambda x: x[0])) for x in X_test.values]\n"
   ]
  },
  {
   "cell_type": "code",
   "execution_count": 4,
   "metadata": {},
   "outputs": [
    {
     "name": "stderr",
     "output_type": "stream",
     "text": [
      "/Users/livavandervelden/opt/anaconda3/envs/hcml/lib/python3.9/site-packages/tqdm/auto.py:21: TqdmWarning: IProgress not found. Please update jupyter and ipywidgets. See https://ipywidgets.readthedocs.io/en/stable/user_install.html\n",
      "  from .autonotebook import tqdm as notebook_tqdm\n",
      "Using 376 background data samples could cause slower run times. Consider using shap.sample(data, K) or shap.kmeans(data, K) to summarize the background as K samples.\n",
      "100%|██████████| 376/376 [07:31<00:00,  1.20s/it]\n"
     ]
    }
   ],
   "source": [
    "import shap\n",
    "\n",
    "shap_explainer = shap.KernelExplainer(mlp.predict_proba, X_test)\n",
    "shap_values = shap_explainer.shap_values(X_test)\n"
   ]
  },
  {
   "cell_type": "code",
   "execution_count": 5,
   "metadata": {},
   "outputs": [],
   "source": [
    "shap_values_positive = shap_values[:, :, 1]"
   ]
  },
  {
   "cell_type": "code",
   "execution_count": 20,
   "metadata": {},
   "outputs": [],
   "source": [
    "import torch\n",
    "import torch.nn as nn\n",
    "\n",
    "class MLP(nn.Module):\n",
    "    def __init__(self, mlp_model):\n",
    "        super(MLP, self).__init__()\n",
    "        self.hidden1 = nn.Linear(10, 32)\n",
    "        self.hidden2 = nn.Linear(32, 16)\n",
    "        self.output = nn.Linear(16, 1)  # Adjust output size based on your problem\n",
    "\n",
    "        # Copy weights from the trained MLPClassifier\n",
    "        self.hidden1.weight.data = torch.tensor(mlp_model.coefs_[0].T, dtype=torch.float32)\n",
    "        self.hidden1.bias.data = torch.tensor(mlp_model.intercepts_[0], dtype=torch.float32)\n",
    "        self.hidden2.weight.data = torch.tensor(mlp_model.coefs_[1].T, dtype=torch.float32)\n",
    "        self.hidden2.bias.data = torch.tensor(mlp_model.intercepts_[1], dtype=torch.float32)\n",
    "        self.output.weight.data = torch.tensor(mlp_model.coefs_[2].T, dtype=torch.float32)\n",
    "        self.output.bias.data = torch.tensor(mlp_model.intercepts_[2], dtype=torch.float32)\n",
    "\n",
    "    def forward(self, x):\n",
    "        x = torch.sigmoid(self.hidden1(x))\n",
    "        x = torch.sigmoid(self.hidden2(x))\n",
    "        x = self.output(x)\n",
    "        return x\n",
    "\n",
    "# Create a PyTorch model from the scikit-learn model\n",
    "torch_model = MLP(mlp)"
   ]
  },
  {
   "cell_type": "code",
   "execution_count": 21,
   "metadata": {},
   "outputs": [],
   "source": [
    "X_test_tensor = torch.tensor(X_test.values, dtype=torch.float32)"
   ]
  },
  {
   "cell_type": "code",
   "execution_count": 22,
   "metadata": {},
   "outputs": [
    {
     "name": "stderr",
     "output_type": "stream",
     "text": [
      "/Users/livavandervelden/opt/anaconda3/envs/hcml/lib/python3.9/site-packages/captum/_utils/gradient.py:57: UserWarning: Input Tensor 0 did not already require gradients, required_grads has been set automatically.\n",
      "  warnings.warn(\n"
     ]
    }
   ],
   "source": [
    "from captum.attr import LRP\n",
    "import numpy as np\n",
    "\n",
    "lrp = LRP(torch_model)\n",
    "\n",
    "attributions = lrp.attribute(X_test_tensor)\n",
    "attributions = attributions.detach().cpu().numpy()\n"
   ]
  },
  {
   "cell_type": "code",
   "execution_count": 11,
   "metadata": {},
   "outputs": [
    {
     "data": {
      "text/plain": [
       "[-0.11323185035737761,\n",
       " -0.0027665483793956488,\n",
       " -0.11784716806802614,\n",
       " -0.08018319970161762,\n",
       " -0.0817492145687931,\n",
       " -0.030201165944491237,\n",
       " -0.017266738418542347,\n",
       " -0.0389309911233628,\n",
       " 0.13377934230745378,\n",
       " 0.13368459357103085]"
      ]
     },
     "execution_count": 11,
     "metadata": {},
     "output_type": "execute_result"
    }
   ],
   "source": [
    "lime_values_featureless = [list(val.values()) for val in lime_values]\n",
    "lime_values_featureless[0]"
   ]
  },
  {
   "cell_type": "code",
   "execution_count": 25,
   "metadata": {},
   "outputs": [
    {
     "name": "stderr",
     "output_type": "stream",
     "text": [
      "/Users/livavandervelden/opt/anaconda3/envs/hcml/lib/python3.9/site-packages/sklearn/cluster/_kmeans.py:1412: FutureWarning: The default value of `n_init` will change from 10 to 'auto' in 1.4. Set the value of `n_init` explicitly to suppress the warning\n",
      "  super()._check_params_vs_input(X, default_n_init=10)\n",
      "/Users/livavandervelden/opt/anaconda3/envs/hcml/lib/python3.9/site-packages/sklearn/cluster/_kmeans.py:1412: FutureWarning: The default value of `n_init` will change from 10 to 'auto' in 1.4. Set the value of `n_init` explicitly to suppress the warning\n",
      "  super()._check_params_vs_input(X, default_n_init=10)\n",
      "/Users/livavandervelden/opt/anaconda3/envs/hcml/lib/python3.9/site-packages/sklearn/cluster/_kmeans.py:1412: FutureWarning: The default value of `n_init` will change from 10 to 'auto' in 1.4. Set the value of `n_init` explicitly to suppress the warning\n",
      "  super()._check_params_vs_input(X, default_n_init=10)\n",
      "/Users/livavandervelden/opt/anaconda3/envs/hcml/lib/python3.9/site-packages/sklearn/cluster/_kmeans.py:1412: FutureWarning: The default value of `n_init` will change from 10 to 'auto' in 1.4. Set the value of `n_init` explicitly to suppress the warning\n",
      "  super()._check_params_vs_input(X, default_n_init=10)\n",
      "/Users/livavandervelden/opt/anaconda3/envs/hcml/lib/python3.9/site-packages/sklearn/cluster/_kmeans.py:1412: FutureWarning: The default value of `n_init` will change from 10 to 'auto' in 1.4. Set the value of `n_init` explicitly to suppress the warning\n",
      "  super()._check_params_vs_input(X, default_n_init=10)\n",
      "/Users/livavandervelden/opt/anaconda3/envs/hcml/lib/python3.9/site-packages/sklearn/cluster/_kmeans.py:1412: FutureWarning: The default value of `n_init` will change from 10 to 'auto' in 1.4. Set the value of `n_init` explicitly to suppress the warning\n",
      "  super()._check_params_vs_input(X, default_n_init=10)\n",
      "/Users/livavandervelden/opt/anaconda3/envs/hcml/lib/python3.9/site-packages/sklearn/cluster/_kmeans.py:1412: FutureWarning: The default value of `n_init` will change from 10 to 'auto' in 1.4. Set the value of `n_init` explicitly to suppress the warning\n",
      "  super()._check_params_vs_input(X, default_n_init=10)\n",
      "/Users/livavandervelden/opt/anaconda3/envs/hcml/lib/python3.9/site-packages/sklearn/cluster/_kmeans.py:1412: FutureWarning: The default value of `n_init` will change from 10 to 'auto' in 1.4. Set the value of `n_init` explicitly to suppress the warning\n",
      "  super()._check_params_vs_input(X, default_n_init=10)\n",
      "/Users/livavandervelden/opt/anaconda3/envs/hcml/lib/python3.9/site-packages/sklearn/cluster/_kmeans.py:1412: FutureWarning: The default value of `n_init` will change from 10 to 'auto' in 1.4. Set the value of `n_init` explicitly to suppress the warning\n",
      "  super()._check_params_vs_input(X, default_n_init=10)\n"
     ]
    },
    {
     "name": "stdout",
     "output_type": "stream",
     "text": [
      "Best Hyperparameters: {'criterion': 'gini', 'max_depth': 6, 'max_features': 'sqrt', 'n_estimators': 200}\n"
     ]
    }
   ],
   "source": [
    "import importlib\n",
    "import evaluation\n",
    "importlib.reload(evaluation)\n",
    "\n",
    "lime_evaluations, lime_fpr, lime_tpr, lime_roc_auc = evaluation.run_evaluations(lime_values_featureless, y_test.values.ravel())"
   ]
  },
  {
   "cell_type": "code",
   "execution_count": 24,
   "metadata": {},
   "outputs": [
    {
     "name": "stderr",
     "output_type": "stream",
     "text": [
      "/Users/livavandervelden/opt/anaconda3/envs/hcml/lib/python3.9/site-packages/sklearn/cluster/_kmeans.py:1412: FutureWarning: The default value of `n_init` will change from 10 to 'auto' in 1.4. Set the value of `n_init` explicitly to suppress the warning\n",
      "  super()._check_params_vs_input(X, default_n_init=10)\n",
      "/Users/livavandervelden/opt/anaconda3/envs/hcml/lib/python3.9/site-packages/sklearn/cluster/_kmeans.py:1412: FutureWarning: The default value of `n_init` will change from 10 to 'auto' in 1.4. Set the value of `n_init` explicitly to suppress the warning\n",
      "  super()._check_params_vs_input(X, default_n_init=10)\n",
      "/Users/livavandervelden/opt/anaconda3/envs/hcml/lib/python3.9/site-packages/sklearn/cluster/_kmeans.py:1412: FutureWarning: The default value of `n_init` will change from 10 to 'auto' in 1.4. Set the value of `n_init` explicitly to suppress the warning\n",
      "  super()._check_params_vs_input(X, default_n_init=10)\n",
      "/Users/livavandervelden/opt/anaconda3/envs/hcml/lib/python3.9/site-packages/sklearn/cluster/_kmeans.py:1412: FutureWarning: The default value of `n_init` will change from 10 to 'auto' in 1.4. Set the value of `n_init` explicitly to suppress the warning\n",
      "  super()._check_params_vs_input(X, default_n_init=10)\n",
      "/Users/livavandervelden/opt/anaconda3/envs/hcml/lib/python3.9/site-packages/sklearn/cluster/_kmeans.py:1412: FutureWarning: The default value of `n_init` will change from 10 to 'auto' in 1.4. Set the value of `n_init` explicitly to suppress the warning\n",
      "  super()._check_params_vs_input(X, default_n_init=10)\n",
      "/Users/livavandervelden/opt/anaconda3/envs/hcml/lib/python3.9/site-packages/sklearn/cluster/_kmeans.py:1412: FutureWarning: The default value of `n_init` will change from 10 to 'auto' in 1.4. Set the value of `n_init` explicitly to suppress the warning\n",
      "  super()._check_params_vs_input(X, default_n_init=10)\n",
      "/Users/livavandervelden/opt/anaconda3/envs/hcml/lib/python3.9/site-packages/sklearn/cluster/_kmeans.py:1412: FutureWarning: The default value of `n_init` will change from 10 to 'auto' in 1.4. Set the value of `n_init` explicitly to suppress the warning\n",
      "  super()._check_params_vs_input(X, default_n_init=10)\n"
     ]
    },
    {
     "name": "stdout",
     "output_type": "stream",
     "text": [
      "Best Hyperparameters: {'criterion': 'gini', 'max_depth': 4, 'max_features': 'sqrt', 'n_estimators': 200}\n"
     ]
    }
   ],
   "source": [
    "shap_evaluations, shap_fpr, shap_tpr, shap_roc_auc = evaluation.run_evaluations(shap_values_positive, y_test.values.ravel())"
   ]
  },
  {
   "cell_type": "code",
   "execution_count": 26,
   "metadata": {},
   "outputs": [
    {
     "name": "stderr",
     "output_type": "stream",
     "text": [
      "/Users/livavandervelden/opt/anaconda3/envs/hcml/lib/python3.9/site-packages/sklearn/cluster/_kmeans.py:1412: FutureWarning: The default value of `n_init` will change from 10 to 'auto' in 1.4. Set the value of `n_init` explicitly to suppress the warning\n",
      "  super()._check_params_vs_input(X, default_n_init=10)\n",
      "/Users/livavandervelden/opt/anaconda3/envs/hcml/lib/python3.9/site-packages/sklearn/cluster/_kmeans.py:1412: FutureWarning: The default value of `n_init` will change from 10 to 'auto' in 1.4. Set the value of `n_init` explicitly to suppress the warning\n",
      "  super()._check_params_vs_input(X, default_n_init=10)\n",
      "/Users/livavandervelden/opt/anaconda3/envs/hcml/lib/python3.9/site-packages/sklearn/cluster/_kmeans.py:1412: FutureWarning: The default value of `n_init` will change from 10 to 'auto' in 1.4. Set the value of `n_init` explicitly to suppress the warning\n",
      "  super()._check_params_vs_input(X, default_n_init=10)\n",
      "/Users/livavandervelden/opt/anaconda3/envs/hcml/lib/python3.9/site-packages/sklearn/cluster/_kmeans.py:1412: FutureWarning: The default value of `n_init` will change from 10 to 'auto' in 1.4. Set the value of `n_init` explicitly to suppress the warning\n",
      "  super()._check_params_vs_input(X, default_n_init=10)\n",
      "/Users/livavandervelden/opt/anaconda3/envs/hcml/lib/python3.9/site-packages/sklearn/cluster/_kmeans.py:1412: FutureWarning: The default value of `n_init` will change from 10 to 'auto' in 1.4. Set the value of `n_init` explicitly to suppress the warning\n",
      "  super()._check_params_vs_input(X, default_n_init=10)\n",
      "/Users/livavandervelden/opt/anaconda3/envs/hcml/lib/python3.9/site-packages/sklearn/cluster/_kmeans.py:1412: FutureWarning: The default value of `n_init` will change from 10 to 'auto' in 1.4. Set the value of `n_init` explicitly to suppress the warning\n",
      "  super()._check_params_vs_input(X, default_n_init=10)\n",
      "/Users/livavandervelden/opt/anaconda3/envs/hcml/lib/python3.9/site-packages/sklearn/cluster/_kmeans.py:1412: FutureWarning: The default value of `n_init` will change from 10 to 'auto' in 1.4. Set the value of `n_init` explicitly to suppress the warning\n",
      "  super()._check_params_vs_input(X, default_n_init=10)\n",
      "/Users/livavandervelden/opt/anaconda3/envs/hcml/lib/python3.9/site-packages/sklearn/cluster/_kmeans.py:1412: FutureWarning: The default value of `n_init` will change from 10 to 'auto' in 1.4. Set the value of `n_init` explicitly to suppress the warning\n",
      "  super()._check_params_vs_input(X, default_n_init=10)\n",
      "/Users/livavandervelden/opt/anaconda3/envs/hcml/lib/python3.9/site-packages/sklearn/cluster/_kmeans.py:1412: FutureWarning: The default value of `n_init` will change from 10 to 'auto' in 1.4. Set the value of `n_init` explicitly to suppress the warning\n",
      "  super()._check_params_vs_input(X, default_n_init=10)\n"
     ]
    },
    {
     "name": "stdout",
     "output_type": "stream",
     "text": [
      "Best Hyperparameters: {'criterion': 'gini', 'max_depth': 4, 'max_features': 12, 'n_estimators': 300}\n"
     ]
    }
   ],
   "source": [
    "lrp_evaluations, lrp_fpr, lrp_tpr, lrp_roc_auc = evaluation.run_evaluations(attributions, y_test.values.ravel())"
   ]
  },
  {
   "cell_type": "code",
   "execution_count": 27,
   "metadata": {},
   "outputs": [
    {
     "data": {
      "text/html": [
       "<div>\n",
       "<style scoped>\n",
       "    .dataframe tbody tr th:only-of-type {\n",
       "        vertical-align: middle;\n",
       "    }\n",
       "\n",
       "    .dataframe tbody tr th {\n",
       "        vertical-align: top;\n",
       "    }\n",
       "\n",
       "    .dataframe thead th {\n",
       "        text-align: right;\n",
       "    }\n",
       "</style>\n",
       "<table border=\"1\" class=\"dataframe\">\n",
       "  <thead>\n",
       "    <tr style=\"text-align: right;\">\n",
       "      <th></th>\n",
       "      <th>k</th>\n",
       "      <th>Silhouette Kmeans</th>\n",
       "      <th>Silhouette Spectral</th>\n",
       "      <th>DBI Kmeans</th>\n",
       "      <th>DBI Spectral</th>\n",
       "    </tr>\n",
       "  </thead>\n",
       "  <tbody>\n",
       "    <tr>\n",
       "      <th>0</th>\n",
       "      <td>2</td>\n",
       "      <td>0.644328</td>\n",
       "      <td>-0.258804</td>\n",
       "      <td>0.580469</td>\n",
       "      <td>1.078326</td>\n",
       "    </tr>\n",
       "    <tr>\n",
       "      <th>1</th>\n",
       "      <td>3</td>\n",
       "      <td>0.489122</td>\n",
       "      <td>-0.320301</td>\n",
       "      <td>0.738533</td>\n",
       "      <td>1.281068</td>\n",
       "    </tr>\n",
       "    <tr>\n",
       "      <th>2</th>\n",
       "      <td>4</td>\n",
       "      <td>0.357331</td>\n",
       "      <td>-0.320743</td>\n",
       "      <td>0.924052</td>\n",
       "      <td>2.468751</td>\n",
       "    </tr>\n",
       "    <tr>\n",
       "      <th>3</th>\n",
       "      <td>5</td>\n",
       "      <td>0.315590</td>\n",
       "      <td>-0.353234</td>\n",
       "      <td>1.012365</td>\n",
       "      <td>1.125036</td>\n",
       "    </tr>\n",
       "    <tr>\n",
       "      <th>4</th>\n",
       "      <td>6</td>\n",
       "      <td>0.261457</td>\n",
       "      <td>-0.350682</td>\n",
       "      <td>1.062374</td>\n",
       "      <td>1.165892</td>\n",
       "    </tr>\n",
       "    <tr>\n",
       "      <th>5</th>\n",
       "      <td>7</td>\n",
       "      <td>0.259129</td>\n",
       "      <td>-0.359429</td>\n",
       "      <td>1.085126</td>\n",
       "      <td>1.408931</td>\n",
       "    </tr>\n",
       "    <tr>\n",
       "      <th>6</th>\n",
       "      <td>8</td>\n",
       "      <td>0.235012</td>\n",
       "      <td>-0.372728</td>\n",
       "      <td>1.163238</td>\n",
       "      <td>1.158599</td>\n",
       "    </tr>\n",
       "    <tr>\n",
       "      <th>7</th>\n",
       "      <td>9</td>\n",
       "      <td>0.230835</td>\n",
       "      <td>-0.359607</td>\n",
       "      <td>1.188947</td>\n",
       "      <td>1.122977</td>\n",
       "    </tr>\n",
       "    <tr>\n",
       "      <th>8</th>\n",
       "      <td>10</td>\n",
       "      <td>0.206364</td>\n",
       "      <td>-0.360249</td>\n",
       "      <td>1.261828</td>\n",
       "      <td>1.115094</td>\n",
       "    </tr>\n",
       "  </tbody>\n",
       "</table>\n",
       "</div>"
      ],
      "text/plain": [
       "    k  Silhouette Kmeans  Silhouette Spectral  DBI Kmeans  DBI Spectral\n",
       "0   2           0.644328            -0.258804    0.580469      1.078326\n",
       "1   3           0.489122            -0.320301    0.738533      1.281068\n",
       "2   4           0.357331            -0.320743    0.924052      2.468751\n",
       "3   5           0.315590            -0.353234    1.012365      1.125036\n",
       "4   6           0.261457            -0.350682    1.062374      1.165892\n",
       "5   7           0.259129            -0.359429    1.085126      1.408931\n",
       "6   8           0.235012            -0.372728    1.163238      1.158599\n",
       "7   9           0.230835            -0.359607    1.188947      1.122977\n",
       "8  10           0.206364            -0.360249    1.261828      1.115094"
      ]
     },
     "execution_count": 27,
     "metadata": {},
     "output_type": "execute_result"
    }
   ],
   "source": [
    "lime_evaluations"
   ]
  },
  {
   "cell_type": "code",
   "execution_count": 28,
   "metadata": {},
   "outputs": [
    {
     "data": {
      "text/html": [
       "<div>\n",
       "<style scoped>\n",
       "    .dataframe tbody tr th:only-of-type {\n",
       "        vertical-align: middle;\n",
       "    }\n",
       "\n",
       "    .dataframe tbody tr th {\n",
       "        vertical-align: top;\n",
       "    }\n",
       "\n",
       "    .dataframe thead th {\n",
       "        text-align: right;\n",
       "    }\n",
       "</style>\n",
       "<table border=\"1\" class=\"dataframe\">\n",
       "  <thead>\n",
       "    <tr style=\"text-align: right;\">\n",
       "      <th></th>\n",
       "      <th>k</th>\n",
       "      <th>Silhouette Kmeans</th>\n",
       "      <th>Silhouette Spectral</th>\n",
       "      <th>DBI Kmeans</th>\n",
       "      <th>DBI Spectral</th>\n",
       "    </tr>\n",
       "  </thead>\n",
       "  <tbody>\n",
       "    <tr>\n",
       "      <th>0</th>\n",
       "      <td>2</td>\n",
       "      <td>0.338627</td>\n",
       "      <td>-0.010059</td>\n",
       "      <td>1.257811</td>\n",
       "      <td>0.992164</td>\n",
       "    </tr>\n",
       "    <tr>\n",
       "      <th>1</th>\n",
       "      <td>3</td>\n",
       "      <td>0.354353</td>\n",
       "      <td>-0.055019</td>\n",
       "      <td>1.250697</td>\n",
       "      <td>0.958223</td>\n",
       "    </tr>\n",
       "    <tr>\n",
       "      <th>2</th>\n",
       "      <td>4</td>\n",
       "      <td>0.294523</td>\n",
       "      <td>-0.057139</td>\n",
       "      <td>1.543319</td>\n",
       "      <td>2.088188</td>\n",
       "    </tr>\n",
       "    <tr>\n",
       "      <th>3</th>\n",
       "      <td>5</td>\n",
       "      <td>0.257994</td>\n",
       "      <td>-0.335061</td>\n",
       "      <td>1.566319</td>\n",
       "      <td>1.073556</td>\n",
       "    </tr>\n",
       "    <tr>\n",
       "      <th>4</th>\n",
       "      <td>6</td>\n",
       "      <td>0.233999</td>\n",
       "      <td>-0.330779</td>\n",
       "      <td>1.557368</td>\n",
       "      <td>1.072512</td>\n",
       "    </tr>\n",
       "    <tr>\n",
       "      <th>5</th>\n",
       "      <td>7</td>\n",
       "      <td>0.229890</td>\n",
       "      <td>-0.364138</td>\n",
       "      <td>1.526345</td>\n",
       "      <td>1.138040</td>\n",
       "    </tr>\n",
       "    <tr>\n",
       "      <th>6</th>\n",
       "      <td>8</td>\n",
       "      <td>0.224042</td>\n",
       "      <td>-0.360435</td>\n",
       "      <td>1.433094</td>\n",
       "      <td>1.209724</td>\n",
       "    </tr>\n",
       "  </tbody>\n",
       "</table>\n",
       "</div>"
      ],
      "text/plain": [
       "   k  Silhouette Kmeans  Silhouette Spectral  DBI Kmeans  DBI Spectral\n",
       "0  2           0.338627            -0.010059    1.257811      0.992164\n",
       "1  3           0.354353            -0.055019    1.250697      0.958223\n",
       "2  4           0.294523            -0.057139    1.543319      2.088188\n",
       "3  5           0.257994            -0.335061    1.566319      1.073556\n",
       "4  6           0.233999            -0.330779    1.557368      1.072512\n",
       "5  7           0.229890            -0.364138    1.526345      1.138040\n",
       "6  8           0.224042            -0.360435    1.433094      1.209724"
      ]
     },
     "execution_count": 28,
     "metadata": {},
     "output_type": "execute_result"
    }
   ],
   "source": [
    "shap_evaluations"
   ]
  },
  {
   "cell_type": "code",
   "execution_count": 29,
   "metadata": {},
   "outputs": [
    {
     "data": {
      "text/html": [
       "<div>\n",
       "<style scoped>\n",
       "    .dataframe tbody tr th:only-of-type {\n",
       "        vertical-align: middle;\n",
       "    }\n",
       "\n",
       "    .dataframe tbody tr th {\n",
       "        vertical-align: top;\n",
       "    }\n",
       "\n",
       "    .dataframe thead th {\n",
       "        text-align: right;\n",
       "    }\n",
       "</style>\n",
       "<table border=\"1\" class=\"dataframe\">\n",
       "  <thead>\n",
       "    <tr style=\"text-align: right;\">\n",
       "      <th></th>\n",
       "      <th>k</th>\n",
       "      <th>Silhouette Kmeans</th>\n",
       "      <th>Silhouette Spectral</th>\n",
       "      <th>DBI Kmeans</th>\n",
       "      <th>DBI Spectral</th>\n",
       "    </tr>\n",
       "  </thead>\n",
       "  <tbody>\n",
       "    <tr>\n",
       "      <th>0</th>\n",
       "      <td>2</td>\n",
       "      <td>0.957331</td>\n",
       "      <td>-0.764900</td>\n",
       "      <td>0.329287</td>\n",
       "      <td>1.519425</td>\n",
       "    </tr>\n",
       "    <tr>\n",
       "      <th>1</th>\n",
       "      <td>3</td>\n",
       "      <td>0.906921</td>\n",
       "      <td>-0.757478</td>\n",
       "      <td>0.488168</td>\n",
       "      <td>1.518117</td>\n",
       "    </tr>\n",
       "    <tr>\n",
       "      <th>2</th>\n",
       "      <td>4</td>\n",
       "      <td>0.884465</td>\n",
       "      <td>-0.759359</td>\n",
       "      <td>0.436770</td>\n",
       "      <td>1.517370</td>\n",
       "    </tr>\n",
       "    <tr>\n",
       "      <th>3</th>\n",
       "      <td>5</td>\n",
       "      <td>0.880143</td>\n",
       "      <td>-0.757869</td>\n",
       "      <td>0.380867</td>\n",
       "      <td>1.516527</td>\n",
       "    </tr>\n",
       "    <tr>\n",
       "      <th>4</th>\n",
       "      <td>6</td>\n",
       "      <td>0.799455</td>\n",
       "      <td>-0.755242</td>\n",
       "      <td>0.430831</td>\n",
       "      <td>1.516406</td>\n",
       "    </tr>\n",
       "    <tr>\n",
       "      <th>5</th>\n",
       "      <td>7</td>\n",
       "      <td>0.797621</td>\n",
       "      <td>-0.752174</td>\n",
       "      <td>0.395234</td>\n",
       "      <td>1.514972</td>\n",
       "    </tr>\n",
       "    <tr>\n",
       "      <th>6</th>\n",
       "      <td>8</td>\n",
       "      <td>0.781691</td>\n",
       "      <td>-0.734445</td>\n",
       "      <td>0.458018</td>\n",
       "      <td>3.628349</td>\n",
       "    </tr>\n",
       "    <tr>\n",
       "      <th>7</th>\n",
       "      <td>9</td>\n",
       "      <td>0.779695</td>\n",
       "      <td>-0.748170</td>\n",
       "      <td>0.377793</td>\n",
       "      <td>1.514145</td>\n",
       "    </tr>\n",
       "    <tr>\n",
       "      <th>8</th>\n",
       "      <td>10</td>\n",
       "      <td>0.706336</td>\n",
       "      <td>-0.737022</td>\n",
       "      <td>0.434384</td>\n",
       "      <td>1.729993</td>\n",
       "    </tr>\n",
       "  </tbody>\n",
       "</table>\n",
       "</div>"
      ],
      "text/plain": [
       "    k  Silhouette Kmeans  Silhouette Spectral  DBI Kmeans  DBI Spectral\n",
       "0   2           0.957331            -0.764900    0.329287      1.519425\n",
       "1   3           0.906921            -0.757478    0.488168      1.518117\n",
       "2   4           0.884465            -0.759359    0.436770      1.517370\n",
       "3   5           0.880143            -0.757869    0.380867      1.516527\n",
       "4   6           0.799455            -0.755242    0.430831      1.516406\n",
       "5   7           0.797621            -0.752174    0.395234      1.514972\n",
       "6   8           0.781691            -0.734445    0.458018      3.628349\n",
       "7   9           0.779695            -0.748170    0.377793      1.514145\n",
       "8  10           0.706336            -0.737022    0.434384      1.729993"
      ]
     },
     "execution_count": 29,
     "metadata": {},
     "output_type": "execute_result"
    }
   ],
   "source": [
    "lrp_evaluations"
   ]
  },
  {
   "cell_type": "code",
   "execution_count": 39,
   "metadata": {},
   "outputs": [
    {
     "data": {
      "image/png": "[encoded data removed]",
      "text/plain": [
       "<Figure size 1000x600 with 1 Axes>"
      ]
     },
     "metadata": {},
     "output_type": "display_data"
    }
   ],
   "source": [
    "import matplotlib.pyplot as plt\n",
    "\n",
    "plt.figure(figsize=(10, 6))\n",
    "plt.plot(lime_fpr, lime_tpr, color='blue', lw=2, label=f'LIME (AuROC = {lime_roc_auc:.2f})')\n",
    "plt.plot(shap_fpr, shap_tpr, color='orange', lw=2, label=f'SHAP (AuROC = {shap_roc_auc:.2f})')\n",
    "plt.plot(lrp_fpr, lrp_tpr, color='red', lw=2, label=f'LRP (AuROC = {lrp_roc_auc:.2f})')\n",
    "plt.plot([0, 1], [0, 1], color='gray', linestyle='--')  # Diagonal line\n",
    "plt.xlim([0.0, 1.0])\n",
    "plt.ylim([0.0, 1.05])\n",
    "plt.xlabel('False Positive Rate')\n",
    "plt.ylabel('True Positive Rate')\n",
    "plt.title('ROC Curve')\n",
    "plt.legend(loc=\"lower right\")\n",
    "plt.savefig(\"ROC\")\n",
    "plt.show()"
   ]
  },
  {
   "cell_type": "code",
   "execution_count": 44,
   "metadata": {},
   "outputs": [
    {
     "name": "stderr",
     "output_type": "stream",
     "text": [
      "/Users/livavandervelden/opt/anaconda3/envs/hcml/lib/python3.9/site-packages/sklearn/cluster/_kmeans.py:1412: FutureWarning: The default value of `n_init` will change from 10 to 'auto' in 1.4. Set the value of `n_init` explicitly to suppress the warning\n",
      "  super()._check_params_vs_input(X, default_n_init=10)\n",
      "/Users/livavandervelden/opt/anaconda3/envs/hcml/lib/python3.9/site-packages/sklearn/cluster/_kmeans.py:1412: FutureWarning: The default value of `n_init` will change from 10 to 'auto' in 1.4. Set the value of `n_init` explicitly to suppress the warning\n",
      "  super()._check_params_vs_input(X, default_n_init=10)\n"
     ]
    },
    {
     "data": {
      "image/png": "[encoded data removed]",
      "text/plain": [
       "<Figure size 640x480 with 1 Axes>"
      ]
     },
     "metadata": {},
     "output_type": "display_data"
    }
   ],
   "source": [
    "\n",
    "from sklearn.preprocessing import StandardScaler\n",
    "from scipy.spatial.distance import pdist, squareform\n",
    "from sklearn.cluster import KMeans, SpectralClustering\n",
    "from sklearn.decomposition import PCA\n",
    "\n",
    "scaled_values = StandardScaler().fit_transform(lime_values_featureless)\n",
    "pairwise_distances = squareform(pdist(scaled_values, \"euclidean\"))\n",
    "cluster_evaluations = []\n",
    "\n",
    "kmeans = KMeans(n_clusters=2).fit(pairwise_distances)\n",
    "spectral_clusters = SpectralClustering(n_clusters=2, affinity=\"precomputed\").fit(pairwise_distances)\n",
    "\n",
    "pca = PCA(2)\n",
    "#Transform the data\n",
    "df = pca.fit_transform(pairwise_distances)\n",
    "kmeans = KMeans(n_clusters= 2)\n",
    "label = kmeans.fit_predict(df)\n",
    "#filter rows of original data\n",
    "filtered_label0 = df[label == 0]\n",
    "filtered_label1 = df[label == 1]\n",
    "#plotting the results\n",
    "plt.scatter(filtered_label0[:,0] , filtered_label0[:,1], color='blue')\n",
    "plt.scatter(filtered_label1[:,0] , filtered_label1[:,1], color='red')\n",
    "\n",
    "plt.show()\n"
   ]
  },
  {
   "cell_type": "code",
   "execution_count": 45,
   "metadata": {},
   "outputs": [
    {
     "name": "stderr",
     "output_type": "stream",
     "text": [
      "/Users/livavandervelden/opt/anaconda3/envs/hcml/lib/python3.9/site-packages/sklearn/cluster/_kmeans.py:1412: FutureWarning: The default value of `n_init` will change from 10 to 'auto' in 1.4. Set the value of `n_init` explicitly to suppress the warning\n",
      "  super()._check_params_vs_input(X, default_n_init=10)\n",
      "/Users/livavandervelden/opt/anaconda3/envs/hcml/lib/python3.9/site-packages/sklearn/cluster/_kmeans.py:1412: FutureWarning: The default value of `n_init` will change from 10 to 'auto' in 1.4. Set the value of `n_init` explicitly to suppress the warning\n",
      "  super()._check_params_vs_input(X, default_n_init=10)\n"
     ]
    },
    {
     "data": {
      "image/png": "[encoded data removed]",
      "text/plain": [
       "<Figure size 640x480 with 1 Axes>"
      ]
     },
     "metadata": {},
     "output_type": "display_data"
    }
   ],
   "source": [
    "scaled_values = StandardScaler().fit_transform(shap_values_positive)\n",
    "pairwise_distances = squareform(pdist(scaled_values, \"euclidean\"))\n",
    "cluster_evaluations = []\n",
    "\n",
    "kmeans = KMeans(n_clusters=2).fit(pairwise_distances)\n",
    "spectral_clusters = SpectralClustering(n_clusters=2, affinity=\"precomputed\").fit(pairwise_distances)\n",
    "\n",
    "#Transform the data\n",
    "df = pca.fit_transform(pairwise_distances)\n",
    "label = kmeans.fit_predict(df)\n",
    "#filter rows of original data\n",
    "filtered_label0 = df[label == 0]\n",
    "filtered_label1 = df[label == 1]\n",
    "#plotting the results\n",
    "plt.scatter(filtered_label0[:,0] , filtered_label0[:,1], color='blue')\n",
    "plt.scatter(filtered_label1[:,0] , filtered_label1[:,1], color='red')\n",
    "\n",
    "plt.show()\n"
   ]
  },
  {
   "cell_type": "code",
   "execution_count": 47,
   "metadata": {},
   "outputs": [
    {
     "name": "stderr",
     "output_type": "stream",
     "text": [
      "/Users/livavandervelden/opt/anaconda3/envs/hcml/lib/python3.9/site-packages/sklearn/cluster/_kmeans.py:1412: FutureWarning: The default value of `n_init` will change from 10 to 'auto' in 1.4. Set the value of `n_init` explicitly to suppress the warning\n",
      "  super()._check_params_vs_input(X, default_n_init=10)\n",
      "/Users/livavandervelden/opt/anaconda3/envs/hcml/lib/python3.9/site-packages/sklearn/cluster/_kmeans.py:1412: FutureWarning: The default value of `n_init` will change from 10 to 'auto' in 1.4. Set the value of `n_init` explicitly to suppress the warning\n",
      "  super()._check_params_vs_input(X, default_n_init=10)\n"
     ]
    },
    {
     "data": {
      "image/png": "[encoded data removed]",
      "text/plain": [
       "<Figure size 640x480 with 1 Axes>"
      ]
     },
     "metadata": {},
     "output_type": "display_data"
    }
   ],
   "source": [
    "scaled_values = StandardScaler().fit_transform(attributions)\n",
    "pairwise_distances = squareform(pdist(scaled_values, \"euclidean\"))\n",
    "cluster_evaluations = []\n",
    "\n",
    "kmeans = KMeans(n_clusters=2).fit(pairwise_distances)\n",
    "spectral_clusters = SpectralClustering(n_clusters=2, affinity=\"precomputed\").fit(pairwise_distances)\n",
    "\n",
    "#Transform the data\n",
    "df = pca.fit_transform(pairwise_distances)\n",
    "label = kmeans.fit_predict(df)\n",
    "#filter rows of original data\n",
    "filtered_label0 = df[label == 0]\n",
    "filtered_label1 = df[label == 1]\n",
    "#plotting the results\n",
    "plt.scatter(filtered_label0[:,0] , filtered_label0[:,1], color='blue')\n",
    "plt.scatter(filtered_label1[:,0] , filtered_label1[:,1], color='red')\n",
    "\n",
    "plt.show()\n"
   ]
  }
 ],
 "metadata": {
  "kernelspec": {
   "display_name": "ai-base",
   "language": "python",
   "name": "python3"
  },
  "language_info": {
   "codemirror_mode": {
    "name": "ipython",
    "version": 3
   },
   "file_extension": ".py",
   "mimetype": "text/x-python",
   "name": "python",
   "nbconvert_exporter": "python",
   "pygments_lexer": "ipython3",
   "version": "3.9.19"
  }
 },
 "nbformat": 4,
 "nbformat_minor": 2
}
